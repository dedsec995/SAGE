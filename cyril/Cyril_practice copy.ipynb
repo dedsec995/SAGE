{
 "cells": [
  {
   "cell_type": "code",
   "execution_count": null,
   "id": "0154cc0c",
   "metadata": {},
   "outputs": [],
   "source": [
    "print(\"Start\")"
   ]
  },
  {
   "cell_type": "code",
   "execution_count": null,
   "id": "e35c02ca",
   "metadata": {},
   "outputs": [],
   "source": [
    "import importlib\n",
    "\n",
    "def detect_google_adk():\n",
    "    try:\n",
    "        adk = importlib.import_module(\"google_adk\")\n",
    "        print(\"✅ Detected package: google_adk\")\n",
    "        return \"google_adk\"\n",
    "    except ModuleNotFoundError:\n",
    "        pass\n",
    "\n",
    "    try:\n",
    "        adk = importlib.import_module(\"google.adk\")\n",
    "        print(\" Detected package: google.adk\")\n",
    "        return \"google.adk\"\n",
    "    except ModuleNotFoundError:\n",
    "        pass\n",
    "\n",
    "    print(\"Neither 'google_adk' nor 'google.adk' found. Check your installation.\")\n",
    "    return None\n",
    "\n",
    "pkg = detect_google_adk()\n"
   ]
  },
  {
   "cell_type": "code",
   "execution_count": null,
   "id": "bf2b2705",
   "metadata": {},
   "outputs": [],
   "source": [
    "try:\n",
    "    from google_adk.agents import LlmAgent\n",
    "    from google_adk.models.lite_llm import LiteLlm\n",
    "    print(\"✅ Imported from google_adk\")\n",
    "except ModuleNotFoundError:\n",
    "    try:\n",
    "        from google.adk.agents import LlmAgent\n",
    "        from google.adk.models.lite_llm import LiteLlm\n",
    "        print(\"✅ Imported from google.adk\")\n",
    "    except ModuleNotFoundError as e:\n",
    "        print(\"❌ Import failed:\", e)\n"
   ]
  },
  {
   "cell_type": "code",
   "execution_count": null,
   "id": "0b61d16a",
   "metadata": {},
   "outputs": [],
   "source": [
    "from google.adk.agents import LlmAgent\n",
    "from google.adk.models.lite_llm import LiteLlm\n",
    "from dotenv import load_dotenv\n",
    "from litellm import completion\n",
    "import json\n"
   ]
  },
  {
   "cell_type": "code",
   "execution_count": null,
   "id": "fdb9f72d",
   "metadata": {},
   "outputs": [],
   "source": [
    "import os\n",
    "from dotenv import load_dotenv\n",
    "\n",
    "\n",
    "env_path = r\"C:\\Users\\cyril\\OneDrive\\Desktop\\ITC\\Project3\\SAGE\\.env\"\n",
    "\n",
    "# Load environment variables from that path\n",
    "load_dotenv(dotenv_path=env_path)\n",
    "\n",
    "print(\"✅ Loaded .env from:\", env_path)\n",
    "print(\"✅ OPENAI_API_KEY loaded?\", bool(os.getenv(\"OPENAI_API_KEY\")))\n"
   ]
  },
  {
   "cell_type": "code",
   "execution_count": null,
   "id": "82c18946",
   "metadata": {},
   "outputs": [],
   "source": [
    "def analyze_sentiment(conversation: list) -> dict:\n",
    "    import re, json\n",
    "    from litellm import completion\n",
    "\n",
    "    def safe_parse_json(raw):\n",
    "        cleaned = re.sub(r\"^```(?:json)?|```$\", \"\", raw.strip(), flags=re.MULTILINE).strip()\n",
    "        try:\n",
    "            return json.loads(cleaned)\n",
    "        except json.JSONDecodeError:\n",
    "            return None\n",
    "\n",
    "    timeline = []\n",
    "\n",
    "    for entry in conversation:\n",
    "        start_t, end_t, speaker, text = entry\n",
    "\n",
    "        resp = completion(\n",
    "            model=\"gpt-4o\",\n",
    "            messages=[\n",
    "                {\n",
    "                    \"role\": \"system\",\n",
    "                    \"content\": (\n",
    "                        \"You are a precise sentiment analysis model. \"\n",
    "                        \"Return a JSON object: {\\\"label\\\": <emotion>, \\\"score\\\": <0–1>} \"\n",
    "                        \"Respond ONLY in JSON without markdown or code blocks.\"\n",
    "                    ),\n",
    "                },\n",
    "                {\"role\": \"user\", \"content\": text},\n",
    "            ],\n",
    "        )\n",
    "\n",
    "        raw = resp[\"choices\"][0][\"message\"][\"content\"]\n",
    "        parsed = safe_parse_json(raw)\n",
    "\n",
    "        if parsed:\n",
    "            label = parsed.get(\"label\", \"neutral\")\n",
    "            score = float(parsed.get(\"score\", 0.5))\n",
    "        else:\n",
    "            label, score = \"neutral\", 0.5\n",
    "\n",
    "        timeline.append({\"t\": start_t, \"label\": label, \"score\": score})\n",
    "\n",
    "    labels = [t[\"label\"] for t in timeline]\n",
    "    overall = max(set(labels), key=labels.count)\n",
    "\n",
    "    return {\n",
    "        \"sentiment_overall\": overall,\n",
    "        \"granularity\": \"1m\",\n",
    "        \"start_time\": conversation[0][0],\n",
    "        \"timeline\": timeline,\n",
    "    }\n"
   ]
  },
  {
   "cell_type": "code",
   "execution_count": null,
   "id": "12aa558e",
   "metadata": {},
   "outputs": [],
   "source": [
    "sentiment_agent = LlmAgent(\n",
    "    model=LiteLlm(model=\"openai/gpt-4o\"),\n",
    "    name=\"sentiment_agent\",\n",
    "    description=\"Analyzes emotional tone across conversation turns.\",\n",
    "    instruction=(\n",
    "        \"Perform fine-grained sentiment analysis on text segments. \"\n",
    "        \"Return structured JSON with overall sentiment and a timeline.\"\n",
    "    ),\n",
    "    tools=[analyze_sentiment],\n",
    ")\n"
   ]
  },
  {
   "cell_type": "code",
   "execution_count": null,
   "id": "042ae9ee",
   "metadata": {},
   "outputs": [],
   "source": [
    "from dotenv import load_dotenv\n",
    "load_dotenv()\n"
   ]
  },
  {
   "cell_type": "code",
   "execution_count": null,
   "id": "02cfd4f6",
   "metadata": {},
   "outputs": [],
   "source": [
    "# ------------------ SAMPLE RUN ------------------\n",
    "if __name__ == \"__main__\":\n",
    "    conversation = conversation = [\n",
    "    [\n",
    "        \"2025-10-24T09:00:00Z\",\n",
    "        \"2025-10-24T09:00:59Z\",\n",
    "        \"Customer\",\n",
    "        \"Good morning. I just got a late payment fine of ₹1,200 on my credit card, but I’m sure I paid the bill yesterday. Can you please tell me why this fine was charged?\"\n",
    "    ],\n",
    "    [\n",
    "        \"2025-10-24T09:01:00Z\",\n",
    "        \"2025-10-24T09:01:59Z\",\n",
    "        \"Customer Care\",\n",
    "        \"Good morning! I’m sorry for the trouble. Let me check your account details. Could you please confirm the payment date and amount so I can verify the transaction?\"\n",
    "    ],\n",
    "    [\n",
    "        \"2025-10-24T09:02:00Z\",\n",
    "        \"2025-10-24T09:02:59Z\",\n",
    "        \"Customer\",\n",
    "        \"Yes, I paid ₹18,500 yesterday around 10 a.m. through the mobile app. It showed successful, so I don’t understand why this fine was added today.\"\n",
    "    ]\n",
    "]\n",
    "\n",
    "\n",
    "    result = analyze_sentiment(conversation)\n",
    "    print(json.dumps(result, indent=2))"
   ]
  },
  {
   "cell_type": "code",
   "execution_count": null,
   "id": "9d08d561",
   "metadata": {},
   "outputs": [],
   "source": [
    "print(\"done\")"
   ]
  },
  {
   "cell_type": "code",
   "execution_count": null,
   "id": "f7891164",
   "metadata": {},
   "outputs": [],
   "source": []
  }
 ],
 "metadata": {
  "kernelspec": {
   "display_name": "venv",
   "language": "python",
   "name": "python3"
  },
  "language_info": {
   "codemirror_mode": {
    "name": "ipython",
    "version": 3
   },
   "file_extension": ".py",
   "mimetype": "text/x-python",
   "name": "python",
   "nbconvert_exporter": "python",
   "pygments_lexer": "ipython3",
   "version": "3.13.9"
  }
 },
 "nbformat": 4,
 "nbformat_minor": 5
}
